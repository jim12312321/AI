{
 "cells": [
  {
   "cell_type": "markdown",
   "source": [
    "# Homework 3 (Deep Neural Network)\n",
    "* 截止日期：2020/12/01 18:00前（當天上課前）\n",
    "* 繳交格式：  \n",
    "        | --HW3_學號_姓名.zip  \n",
    "            |-- Hw3_學號_姓名.ipynb\n",
    "* 繳交檔案時請將debug、紀錄或測試用的檔案刪除(如：.ipynb_checkpoints)\n",
    "* 請將輸出結果儲存，以便作業檢查\n",
    "* 若有參考書面或網路資訊，請附上書名或連結，沒付上參考資料者視同剽竊，本作業以0分記\n",
    "* 請使用`markdown`區塊描述作法或填寫問題"
   ],
   "metadata": {}
  },
  {
   "cell_type": "markdown",
   "source": [
    "## Homework 3-1 : 實作感知器(區分or邏輯)\n",
    "  1. 請將所有有含問號`?`的函式補齊，使程式能夠正常運作\n",
    "      \n",
    "      > `forward`、`activation` 、`backward`\n",
    "  2. 請呼叫main函數，並填入epoch與learning rate，並依照下面要求答題 \n",
    "      > * 請將epoch分別固定在2500，測試至少3種不同的learning rate\n",
    "      \n",
    "      > * 請將learning rate分別固定在.01，測試至少3種不同的epoch\n",
    "  3. 請寫下你覺得調整epoch跟learning rate所造成的影響"
   ],
   "metadata": {}
  },
  {
   "cell_type": "code",
   "execution_count": 1,
   "source": [
    "import numpy as np\r\n",
    "import numpy\r\n",
    "import matplotlib.pylab as plt"
   ],
   "outputs": [],
   "metadata": {}
  },
  {
   "cell_type": "markdown",
   "source": [
    "### Part 1\n",
    "\n",
    " 請將所有有含問號?的函式補齊，使程式能夠正常運作"
   ],
   "metadata": {}
  },
  {
   "cell_type": "code",
   "execution_count": 2,
   "source": [
    "#前傳遞=>如同計算 y =ax+b\r\n",
    "def forward(Input_X,weight,bias):    \r\n",
    "    y_matrix = np.dot(Input_X,weight)+bias #將矩陣相乘  \r\n",
    "    Predict_Y = activation(y_matrix) #進入活化函數做大小調整\r\n",
    "    return Predict_Y"
   ],
   "outputs": [],
   "metadata": {}
  },
  {
   "cell_type": "code",
   "execution_count": 3,
   "source": [
    "#活化函數\r\n",
    "def activation(s):\r\n",
    "    output_value =  1/(1+np.exp(-s))# 請實作sigmmoid function\r\n",
    "    return output_value"
   ],
   "outputs": [],
   "metadata": {}
  },
  {
   "cell_type": "code",
   "execution_count": 4,
   "source": [
    "# 倒傳遞演算法\r\n",
    "def backward(Input_X, Output_Y, Predict_Y ,weight,learning_rate,error_history):   \r\n",
    "    output_error = Output_Y-Predict_Y #計算誤差\r\n",
    "    error_history.append(numpy.mean(numpy.sqrt(numpy.square(output_error)))) #將Mean Square Error 加入error_history\r\n",
    "    weight += learning_rate*Input_X.T.dot(output_error) #更新weight，學習率*delta，注意\"本次實作沒有隱藏層\"\r\n",
    "    return weight"
   ],
   "outputs": [],
   "metadata": {}
  },
  {
   "cell_type": "code",
   "execution_count": 5,
   "source": [
    "#訓練函數\r\n",
    "def train(Input_X, Output_Y ,bias, weight,learning_rate,error_history):\r\n",
    "    o_matrix = forward(Input_X,weight,bias)\r\n",
    "    weight = backward(Input_X, Output_Y, o_matrix,weight,learning_rate,error_history)\r\n",
    "    return weight"
   ],
   "outputs": [],
   "metadata": {}
  },
  {
   "cell_type": "code",
   "execution_count": 6,
   "source": [
    "def predict(xPredicted,weight,bias):\r\n",
    "    print (\"Predict data\\n\" + str(xPredicted))\r\n",
    "    print ('----------------------')\r\n",
    "    print (\"Output_rate: \\n\" + str(forward(xPredicted,weight,bias)))"
   ],
   "outputs": [],
   "metadata": {}
  },
  {
   "cell_type": "code",
   "execution_count": 7,
   "source": [
    "def result_show(weight,bias,epoch,error_history):\r\n",
    "    #此區不用修改，僅為顯示結果用\r\n",
    "    #最後的輸出結果為:\r\n",
    "    print('最後的weight為:')\r\n",
    "    print(weight)\r\n",
    "    print('----------------')\r\n",
    "    #開始預測不同輸入的結果,此為4組 00 01 10 11\r\n",
    "    xPredicted = np.array(([0,0],[0,1],[1,0],[1,1]), dtype=float)\r\n",
    "    predict(xPredicted,weight,bias)#開始預測\r\n",
    "    print('----------------')\r\n",
    "    print('最後的loss為:')\r\n",
    "    print(error_history[-1])\r\n",
    "\r\n",
    "    plt.plot(np.arange(0, epoch, 1), np.array(error_history), label = 'mean square error')\r\n",
    "    plt.legend()\r\n",
    "    plt.show() "
   ],
   "outputs": [],
   "metadata": {}
  },
  {
   "cell_type": "code",
   "execution_count": 8,
   "source": [
    "def main(epoch,learning_rate):\r\n",
    "    #主程式開始\r\n",
    "    #設定所有資訊\r\n",
    "    Input_X = np.array(([0, 0], [0, 1], [1, 0], [1, 1]), dtype=float)#輸入資訊 總共兩維資訊\r\n",
    "    Input_size = 2#輸入的維度為多少  此為2\r\n",
    "    Output_Y = np.array(([0], [1], [1],[1]), dtype=float)#輸入資訊後應該要有的預期結果\r\n",
    "    Output_size = 1#輸出的維度為多少  此為1\r\n",
    "    bias=0\r\n",
    "    error_history = []#用來記錄每次誤差值\r\n",
    "    weight = np.random.randn(Input_size, Output_size)# np.random.randn =>依照常態分配的機率隨機取一個值\r\n",
    "    print('最初的weight為:')\r\n",
    "    print(weight)#查看一開始亂數產生的weight\r\n",
    "    #開始依照每一代做訓練\r\n",
    "    for i in range(epoch):\r\n",
    "        weight = train(Input_X, Output_Y,bias,weight,learning_rate,error_history)\r\n",
    "    #顯示結果\r\n",
    "    result_show(weight,bias,epoch,error_history)"
   ],
   "outputs": [],
   "metadata": {}
  },
  {
   "cell_type": "markdown",
   "source": [
    "### Part 2\n",
    "\n",
    "請呼叫main函數，填入epoch與learning rate，並依照下面要求答題 \n",
    "> * 請將epoch固定在2500，測試至少3種不同的learning rate\n",
    "> * 請將learning rate固定在.01，測試至少3種不同的epoch\n",
    "\n",
    "測試不同參數時，可將每次的數值差距拉大，以利觀察結果變化"
   ],
   "metadata": {}
  },
  {
   "cell_type": "markdown",
   "source": [
    "#### 固定epoch"
   ],
   "metadata": {}
  },
  {
   "cell_type": "code",
   "execution_count": 9,
   "source": [
    "main(2500,0.1)"
   ],
   "outputs": [
    {
     "output_type": "stream",
     "name": "stdout",
     "text": [
      "最初的weight為:\n",
      "[[1.51954993]\n",
      " [1.19509118]]\n",
      "最後的weight為:\n",
      "[[5.54252033]\n",
      " [5.53482449]]\n",
      "----------------\n",
      "Predict data\n",
      "[[0. 0.]\n",
      " [0. 1.]\n",
      " [1. 0.]\n",
      " [1. 1.]]\n",
      "----------------------\n",
      "Output_rate: \n",
      "[[0.5       ]\n",
      " [0.99606862]\n",
      " [0.99609864]\n",
      " [0.99998454]]\n",
      "----------------\n",
      "最後的loss為:\n",
      "0.12696282186439747\n"
     ]
    },
    {
     "output_type": "display_data",
     "data": {
      "image/png": "[encoded data removed]",
      "text/plain": [
       "<Figure size 432x288 with 1 Axes>"
      ]
     },
     "metadata": {}
    }
   ],
   "metadata": {}
  },
  {
   "cell_type": "code",
   "execution_count": 10,
   "source": [
    "main(2500,0.01)"
   ],
   "outputs": [
    {
     "output_type": "stream",
     "name": "stdout",
     "text": [
      "最初的weight為:\n",
      "[[ 1.16835696]\n",
      " [-0.35148075]]\n",
      "最後的weight為:\n",
      "[[3.41096388]\n",
      " [3.1989148 ]]\n",
      "----------------\n",
      "Predict data\n",
      "[[0. 0.]\n",
      " [0. 1.]\n",
      " [1. 0.]\n",
      " [1. 1.]]\n",
      "----------------------\n",
      "Output_rate: \n",
      "[[0.5       ]\n",
      " [0.96079342]\n",
      " [0.96804543]\n",
      " [0.99865482]]\n",
      "----------------\n",
      "最後的loss為:\n",
      "0.14313322904500578\n"
     ]
    },
    {
     "output_type": "display_data",
     "data": {
      "image/png": "[encoded data removed]",
      "text/plain": [
       "<Figure size 432x288 with 1 Axes>"
      ]
     },
     "metadata": {}
    }
   ],
   "metadata": {}
  },
  {
   "cell_type": "code",
   "execution_count": 11,
   "source": [
    "main(2500,0.001)"
   ],
   "outputs": [
    {
     "output_type": "stream",
     "name": "stdout",
     "text": [
      "最初的weight為:\n",
      "[[-0.52010588]\n",
      " [ 1.15163375]]\n",
      "最後的weight為:\n",
      "[[0.89999249]\n",
      " [1.92896115]]\n",
      "----------------\n",
      "Predict data\n",
      "[[0. 0.]\n",
      " [0. 1.]\n",
      " [1. 0.]\n",
      " [1. 1.]]\n",
      "----------------------\n",
      "Output_rate: \n",
      "[[0.5       ]\n",
      " [0.87313439]\n",
      " [0.71094796]\n",
      " [0.94422052]]\n",
      "----------------\n",
      "最後的loss為:\n",
      "0.24295401409586317\n"
     ]
    },
    {
     "output_type": "display_data",
     "data": {
      "image/png": "[encoded data removed]",
      "text/plain": [
       "<Figure size 432x288 with 1 Axes>"
      ]
     },
     "metadata": {}
    }
   ],
   "metadata": {}
  },
  {
   "cell_type": "markdown",
   "source": [
    "#### 固定learning rate"
   ],
   "metadata": {}
  },
  {
   "cell_type": "code",
   "execution_count": 12,
   "source": [
    "main(20,0.01)"
   ],
   "outputs": [
    {
     "output_type": "stream",
     "name": "stdout",
     "text": [
      "最初的weight為:\n",
      "[[-0.8075934 ]\n",
      " [-1.65821925]]\n",
      "最後的weight為:\n",
      "[[-0.496991  ]\n",
      " [-1.31607805]]\n",
      "----------------\n",
      "Predict data\n",
      "[[0. 0.]\n",
      " [0. 1.]\n",
      " [1. 0.]\n",
      " [1. 1.]]\n",
      "----------------------\n",
      "Output_rate: \n",
      "[[0.5       ]\n",
      " [0.21147154]\n",
      " [0.37824806]\n",
      " [0.14026761]]\n",
      "----------------\n",
      "最後的loss為:\n",
      "0.6950004482729205\n"
     ]
    },
    {
     "output_type": "display_data",
     "data": {
      "image/png": "[encoded data removed]",
      "text/plain": [
       "<Figure size 432x288 with 1 Axes>"
      ]
     },
     "metadata": {}
    }
   ],
   "metadata": {}
  },
  {
   "cell_type": "code",
   "execution_count": 13,
   "source": [
    "main(200,0.01)"
   ],
   "outputs": [
    {
     "output_type": "stream",
     "name": "stdout",
     "text": [
      "最初的weight為:\n",
      "[[-0.97811623]\n",
      " [-1.34563772]]\n",
      "最後的weight為:\n",
      "[[0.90771988]\n",
      " [0.67669463]]\n",
      "----------------\n",
      "Predict data\n",
      "[[0. 0.]\n",
      " [0. 1.]\n",
      " [1. 0.]\n",
      " [1. 1.]]\n",
      "----------------------\n",
      "Output_rate: \n",
      "[[0.5       ]\n",
      " [0.66300057]\n",
      " [0.71253335]\n",
      " [0.82982881]]\n",
      "----------------\n",
      "最後的loss為:\n",
      "0.3245234189798209\n"
     ]
    },
    {
     "output_type": "display_data",
     "data": {
      "image/png": "[encoded data removed]",
      "text/plain": [
       "<Figure size 432x288 with 1 Axes>"
      ]
     },
     "metadata": {}
    }
   ],
   "metadata": {}
  },
  {
   "cell_type": "code",
   "execution_count": 14,
   "source": [
    "main(2000,0.01)"
   ],
   "outputs": [
    {
     "output_type": "stream",
     "name": "stdout",
     "text": [
      "最初的weight為:\n",
      "[[ 0.06453607]\n",
      " [-1.55863622]]\n",
      "最後的weight為:\n",
      "[[3.15378945]\n",
      " [2.93380383]]\n",
      "----------------\n",
      "Predict data\n",
      "[[0. 0.]\n",
      " [0. 1.]\n",
      " [1. 0.]\n",
      " [1. 1.]]\n",
      "----------------------\n",
      "Output_rate: \n",
      "[[0.5       ]\n",
      " [0.94949241]\n",
      " [0.95905778]\n",
      " [0.99773428]]\n",
      "----------------\n",
      "最後的loss為:\n",
      "0.14844000387811726\n"
     ]
    },
    {
     "output_type": "display_data",
     "data": {
      "image/png": "[encoded data removed]",
      "text/plain": [
       "<Figure size 432x288 with 1 Axes>"
      ]
     },
     "metadata": {}
    }
   ],
   "metadata": {}
  },
  {
   "cell_type": "markdown",
   "source": [
    "## Homework 3-2 : DNN with Keras\n",
    " 作業說明：\n",
    " >作業3-2使用[Kaggle Titanic](https://www.kaggle.com/c/titanic/overview) 所提供的資料集，本資料集分為train.csv以及test.csv，請用train.csv建構模型及預測生還者。test.csv中沒有答案，加分題需使用test.csv並上傳至[Kaggle Titanic](https://www.kaggle.com/c/titanic/overview)進行評分。"
   ],
   "metadata": {}
  },
  {
   "cell_type": "markdown",
   "source": [
    "### Part 0 讀取檔案\n",
    "\n",
    "請在此區塊後使用**一個或多個區塊**進行讀取檔案，項目**至少**包含：\n",
    "\n",
    "- 以`pd.read_csv()`讀取檔案\n",
    "- 以`pd.head()`顯示前5筆資料\n",
    "- 以`pd.info()`顯示資料型態與大小\n",
    "\n",
    "請以 `markdown` 簡單描述各變項的意思"
   ],
   "metadata": {}
  },
  {
   "cell_type": "code",
   "execution_count": 15,
   "source": [
    "import numpy as np\r\n",
    "import pandas as pd\r\n",
    "import matplotlib.pyplot as plt"
   ],
   "outputs": [],
   "metadata": {}
  },
  {
   "cell_type": "code",
   "execution_count": 16,
   "source": [
    "df = pd.read_csv('train.csv') "
   ],
   "outputs": [],
   "metadata": {}
  },
  {
   "cell_type": "code",
   "execution_count": 17,
   "source": [
    "df.head()"
   ],
   "outputs": [
    {
     "output_type": "execute_result",
     "data": {
      "text/html": [
       "<div>\n",
       "<style scoped>\n",
       "    .dataframe tbody tr th:only-of-type {\n",
       "        vertical-align: middle;\n",
       "    }\n",
       "\n",
       "    .dataframe tbody tr th {\n",
       "        vertical-align: top;\n",
       "    }\n",
       "\n",
       "    .dataframe thead th {\n",
       "        text-align: right;\n",
       "    }\n",
       "</style>\n",
       "<table border=\"1\" class=\"dataframe\">\n",
       "  <thead>\n",
       "    <tr style=\"text-align: right;\">\n",
       "      <th></th>\n",
       "      <th>PassengerId</th>\n",
       "      <th>Survived</th>\n",
       "      <th>Pclass</th>\n",
       "      <th>Name</th>\n",
       "      <th>Sex</th>\n",
       "      <th>Age</th>\n",
       "      <th>SibSp</th>\n",
       "      <th>Parch</th>\n",
       "      <th>Ticket</th>\n",
       "      <th>Fare</th>\n",
       "      <th>Cabin</th>\n",
       "      <th>Embarked</th>\n",
       "    </tr>\n",
       "  </thead>\n",
       "  <tbody>\n",
       "    <tr>\n",
       "      <th>0</th>\n",
       "      <td>1</td>\n",
       "      <td>0</td>\n",
       "      <td>3</td>\n",
       "      <td>Braund, Mr. Owen Harris</td>\n",
       "      <td>male</td>\n",
       "      <td>22.0</td>\n",
       "      <td>1</td>\n",
       "      <td>0</td>\n",
       "      <td>A/5 21171</td>\n",
       "      <td>7.2500</td>\n",
       "      <td>NaN</td>\n",
       "      <td>S</td>\n",
       "    </tr>\n",
       "    <tr>\n",
       "      <th>1</th>\n",
       "      <td>2</td>\n",
       "      <td>1</td>\n",
       "      <td>1</td>\n",
       "      <td>Cumings, Mrs. John Bradley (Florence Briggs Th...</td>\n",
       "      <td>female</td>\n",
       "      <td>38.0</td>\n",
       "      <td>1</td>\n",
       "      <td>0</td>\n",
       "      <td>PC 17599</td>\n",
       "      <td>71.2833</td>\n",
       "      <td>C85</td>\n",
       "      <td>C</td>\n",
       "    </tr>\n",
       "    <tr>\n",
       "      <th>2</th>\n",
       "      <td>3</td>\n",
       "      <td>1</td>\n",
       "      <td>3</td>\n",
       "      <td>Heikkinen, Miss. Laina</td>\n",
       "      <td>female</td>\n",
       "      <td>26.0</td>\n",
       "      <td>0</td>\n",
       "      <td>0</td>\n",
       "      <td>STON/O2. 3101282</td>\n",
       "      <td>7.9250</td>\n",
       "      <td>NaN</td>\n",
       "      <td>S</td>\n",
       "    </tr>\n",
       "    <tr>\n",
       "      <th>3</th>\n",
       "      <td>4</td>\n",
       "      <td>1</td>\n",
       "      <td>1</td>\n",
       "      <td>Futrelle, Mrs. Jacques Heath (Lily May Peel)</td>\n",
       "      <td>female</td>\n",
       "      <td>35.0</td>\n",
       "      <td>1</td>\n",
       "      <td>0</td>\n",
       "      <td>113803</td>\n",
       "      <td>53.1000</td>\n",
       "      <td>C123</td>\n",
       "      <td>S</td>\n",
       "    </tr>\n",
       "    <tr>\n",
       "      <th>4</th>\n",
       "      <td>5</td>\n",
       "      <td>0</td>\n",
       "      <td>3</td>\n",
       "      <td>Allen, Mr. William Henry</td>\n",
       "      <td>male</td>\n",
       "      <td>35.0</td>\n",
       "      <td>0</td>\n",
       "      <td>0</td>\n",
       "      <td>373450</td>\n",
       "      <td>8.0500</td>\n",
       "      <td>NaN</td>\n",
       "      <td>S</td>\n",
       "    </tr>\n",
       "  </tbody>\n",
       "</table>\n",
       "</div>"
      ],
      "text/plain": [
       "   PassengerId  Survived  Pclass  \\\n",
       "0            1         0       3   \n",
       "1            2         1       1   \n",
       "2            3         1       3   \n",
       "3            4         1       1   \n",
       "4            5         0       3   \n",
       "\n",
       "                                                Name     Sex   Age  SibSp  \\\n",
       "0                            Braund, Mr. Owen Harris    male  22.0      1   \n",
       "1  Cumings, Mrs. John Bradley (Florence Briggs Th...  female  38.0      1   \n",
       "2                             Heikkinen, Miss. Laina  female  26.0      0   \n",
       "3       Futrelle, Mrs. Jacques Heath (Lily May Peel)  female  35.0      1   \n",
       "4                           Allen, Mr. William Henry    male  35.0      0   \n",
       "\n",
       "   Parch            Ticket     Fare Cabin Embarked  \n",
       "0      0         A/5 21171   7.2500   NaN        S  \n",
       "1      0          PC 17599  71.2833   C85        C  \n",
       "2      0  STON/O2. 3101282   7.9250   NaN        S  \n",
       "3      0            113803  53.1000  C123        S  \n",
       "4      0            373450   8.0500   NaN        S  "
      ]
     },
     "metadata": {},
     "execution_count": 17
    }
   ],
   "metadata": {}
  },
  {
   "cell_type": "code",
   "execution_count": 18,
   "source": [
    "df.info()"
   ],
   "outputs": [
    {
     "output_type": "stream",
     "name": "stdout",
     "text": [
      "<class 'pandas.core.frame.DataFrame'>\n",
      "RangeIndex: 891 entries, 0 to 890\n",
      "Data columns (total 12 columns):\n",
      " #   Column       Non-Null Count  Dtype  \n",
      "---  ------       --------------  -----  \n",
      " 0   PassengerId  891 non-null    int64  \n",
      " 1   Survived     891 non-null    int64  \n",
      " 2   Pclass       891 non-null    int64  \n",
      " 3   Name         891 non-null    object \n",
      " 4   Sex          891 non-null    object \n",
      " 5   Age          714 non-null    float64\n",
      " 6   SibSp        891 non-null    int64  \n",
      " 7   Parch        891 non-null    int64  \n",
      " 8   Ticket       891 non-null    object \n",
      " 9   Fare         891 non-null    float64\n",
      " 10  Cabin        204 non-null    object \n",
      " 11  Embarked     889 non-null    object \n",
      "dtypes: float64(2), int64(5), object(5)\n",
      "memory usage: 83.7+ KB\n"
     ]
    }
   ],
   "metadata": {}
  },
  {
   "cell_type": "markdown",
   "source": [
    "|變項名稱|含意|\n",
    "|-|-|\n",
    "|PassengerId|乘客id編號|\n",
    "|Survived|是否倖存|\n",
    "|Pclass|船票等級|\n",
    "|Name|姓名|\n",
    "|Sex|性別|\n",
    "|Age|年齡|\n",
    "|SibSp|在船上同為兄弟姐妹或配偶的數目|\n",
    "|Parch|在船上同為家族的父母及小孩的數目|\n",
    "|Ticket|船票編號|\n",
    "|Fare|船票價格|\n",
    "|Cabin|船艙編號|\n",
    "|Embarked|登船處|"
   ],
   "metadata": {}
  },
  {
   "cell_type": "markdown",
   "source": [
    "### Part 1 資料分析與前處理\n",
    "\n",
    "請在此區塊後使用**一個或多個區塊**進行資料分析與前處理，項目**至少**包含：\n",
    "\n",
    "- 處理缺失值\n",
    "- 將類別資料進行one-hot encoding\n",
    "- 繪製數值資料的直方圖查看資料分布\n",
    "- 整合資料(將處理完的資料重整並分成train_x及train_y)\n",
    "\n",
    "其他可額外增加的項目：\n",
    "\n",
    "- 相關係數\n",
    "- 決定輸入特徵\n",
    "- 其他資料視覺化\n",
    "- 其他\n",
    "\n",
    "請以 `markdown` 簡單描述每個項目的**想法**、**方法**與**原因**：\n",
    "\n",
    "例如：\n",
    "1. 觀察...，發現...\n",
    "2. 填補...，策略...\n",
    "3. 轉換...，原因..."
   ],
   "metadata": {}
  },
  {
   "cell_type": "markdown",
   "source": [
    "#### 處理缺失值"
   ],
   "metadata": {}
  },
  {
   "cell_type": "code",
   "execution_count": 19,
   "source": [
    "#填補缺失值\r\n",
    "#觀察資料\r\n",
    "print(df['Age'].describe())\r\n",
    "print()\r\n",
    "print(df['Embarked'].describe())\r\n",
    "#填補缺失值\r\n",
    "\r\n",
    "df['Age'].fillna(value=df['Age'].mean(),inplace = True)\r\n",
    "\r\n",
    "df['Embarked'].fillna(value=df['Embarked'].mode()[0],inplace = True)"
   ],
   "outputs": [
    {
     "output_type": "stream",
     "name": "stdout",
     "text": [
      "count    714.000000\n",
      "mean      29.699118\n",
      "std       14.526497\n",
      "min        0.420000\n",
      "25%       20.125000\n",
      "50%       28.000000\n",
      "75%       38.000000\n",
      "max       80.000000\n",
      "Name: Age, dtype: float64\n",
      "\n",
      "count     889\n",
      "unique      3\n",
      "top         S\n",
      "freq      644\n",
      "Name: Embarked, dtype: object\n"
     ]
    }
   ],
   "metadata": {}
  },
  {
   "cell_type": "markdown",
   "source": [
    "#### 將類別資料進行one-hot encoding"
   ],
   "metadata": {}
  },
  {
   "cell_type": "code",
   "execution_count": 20,
   "source": [
    "from sklearn.preprocessing import LabelEncoder #Label encoding\r\n",
    "from keras.utils import to_categorical #one-hot encoding"
   ],
   "outputs": [
    {
     "output_type": "stream",
     "name": "stderr",
     "text": [
      "C:\\Users\\user\\Anaconda3\\lib\\site-packages\\h5py\\__init__.py:36: FutureWarning: Conversion of the second argument of issubdtype from `float` to `np.floating` is deprecated. In future, it will be treated as `np.float64 == np.dtype(float).type`.\n",
      "  from ._conv import register_converters as _register_converters\n",
      "Using TensorFlow backend.\n"
     ]
    }
   ],
   "metadata": {}
  },
  {
   "cell_type": "code",
   "execution_count": 21,
   "source": [
    "#資料抓取 -類別資料\r\n",
    "Pclass_data = df['Pclass']\r\n",
    "Sex_data = df['Sex']\r\n",
    "Embarked_data = df['Embarked']"
   ],
   "outputs": [],
   "metadata": {}
  },
  {
   "cell_type": "code",
   "execution_count": 22,
   "source": [
    "le = LabelEncoder()\r\n",
    "Pclass_data = le.fit_transform(Pclass_data)\r\n",
    "Sex_data = le.fit_transform(Sex_data)\r\n",
    "Embarked_data = le.fit_transform(Embarked_data)\r\n",
    "\r\n",
    "Pclass_data = to_categorical(Pclass_data)\r\n",
    "Sex_data = to_categorical(Sex_data)\r\n",
    "Embarked_data = to_categorical(Embarked_data)"
   ],
   "outputs": [],
   "metadata": {}
  },
  {
   "cell_type": "markdown",
   "source": [
    "#### 繪製數值資料的直方圖成看資料分布"
   ],
   "metadata": {}
  },
  {
   "cell_type": "code",
   "execution_count": 23,
   "source": [
    "\r\n",
    "#查看資料分布\r\n",
    "plt.subplot(2,2,1) #第一張圖\r\n",
    "plt.hist(df['Age'])\r\n",
    "plt.title('Age')\r\n",
    "\r\n",
    "plt.subplot(2,2,2) #第二張圖\r\n",
    "plt.hist(df['SibSp'])\r\n",
    "plt.title('SibSp_data')\r\n",
    "\r\n",
    "plt.subplot(2,2,3) #第三張圖\r\n",
    "plt.hist(df['Parch'])\r\n",
    "plt.title('Parch_data')\r\n",
    "\r\n",
    "plt.subplot(2,2,4) #第四張圖\r\n",
    "plt.hist(df['Fare'])\r\n",
    "plt.title('Fare_data')\r\n",
    "plt.subplots_adjust(wspace =0.5, hspace =0.5)\r\n",
    "plt.show()"
   ],
   "outputs": [
    {
     "output_type": "display_data",
     "data": {
      "image/png": "[encoded data removed]",
      "text/plain": [
       "<Figure size 432x288 with 4 Axes>"
      ]
     },
     "metadata": {}
    }
   ],
   "metadata": {}
  },
  {
   "cell_type": "markdown",
   "source": [
    "#### 整合資料"
   ],
   "metadata": {}
  },
  {
   "cell_type": "code",
   "execution_count": 24,
   "source": [
    "#整合訓練資料\r\n",
    "\r\n",
    "train_x = pd.DataFrame(\r\n",
    "{\r\n",
    "    'Age' : df['Age'],\r\n",
    "    'Fare': df['Fare'],\r\n",
    "    'Pclass_1': Pclass_data.T[0],\r\n",
    "    'Pclass_2': Pclass_data.T[1],\r\n",
    "    'Pclass_3': Pclass_data.T[2],\r\n",
    "    'Parch': df['Parch'],\r\n",
    "    'SibSp': df['SibSp'],\r\n",
    "    'Sex_female': Sex_data.T[0],\r\n",
    "    'Sex_male' : Sex_data.T[1]\r\n",
    "})                 # 取出訓練資料需要分析的資料欄位\r\n",
    "\r\n",
    "\r\n",
    "train_y = df['Survived']                       # 取出訓練資料的答案\r\n"
   ],
   "outputs": [],
   "metadata": {}
  },
  {
   "cell_type": "markdown",
   "source": [
    "### Part2 模型建構、執行與結果呈現\n",
    "\n",
    "請在此區塊後使用**一個或多個區塊**進行DNN模型訓練，**需要**包含以下內容：\n",
    "\n",
    "- **DNN模型**\n",
    "    - 設定模型**超參數**\n",
    "    - 利用`summary()`顯示模型架構\n",
    "- 計算**準確度（Accuracy）**\n",
    "    - 使用 **5-fold cross validation**，輸出**平均準確度**\n",
    "    - 最後再使用**所有**資料進行訓練並輸出**準確度**\n",
    "- 將**訓練過程**利用畫圖套件視覺化\n",
    "    - 使用**所有**資料進行訓練的**準確度**變化繪製準確度變化圖\n",
    "    - 使用**所有**資料進行訓練的**Loss**變化繪製損失率變化圖\n",
    "- 檢驗訓練結果\n",
    "    - 繪製**混淆矩陣**\n",
    "    - 繪製**ROC曲線**並計算**auc score**"
   ],
   "metadata": {}
  },
  {
   "cell_type": "markdown",
   "source": [
    "#### DNN模型"
   ],
   "metadata": {}
  },
  {
   "cell_type": "code",
   "execution_count": 25,
   "source": [
    "import keras\r\n",
    "from keras.models import Sequential\r\n",
    "from keras.layers import Dense\r\n",
    "from keras.layers.core import Dense, Dropout, Activation\r\n",
    "\r\n",
    "model = Sequential()\r\n",
    "model.add(Dense(1024,input_dim = 9,activation = 'relu'))\r\n",
    "model.add(Dense(64, activation='relu'))\r\n",
    "model.add(Dense(32, activation='relu'))\r\n",
    "model.add(Dense(output_dim = 1,activation='sigmoid'))\r\n",
    "model.compile(loss='mean_squared_error', optimizer='adam', metrics=['accuracy'])"
   ],
   "outputs": [
    {
     "output_type": "stream",
     "name": "stderr",
     "text": [
      "C:\\Users\\user\\Anaconda3\\lib\\site-packages\\ipykernel_launcher.py:10: UserWarning: Update your `Dense` call to the Keras 2 API: `Dense(activation=\"sigmoid\", units=1)`\n",
      "  # Remove the CWD from sys.path while we load stuff.\n"
     ]
    }
   ],
   "metadata": {}
  },
  {
   "cell_type": "code",
   "execution_count": 26,
   "source": [
    "model.summary()"
   ],
   "outputs": [
    {
     "output_type": "stream",
     "name": "stdout",
     "text": [
      "Model: \"sequential_1\"\n",
      "_________________________________________________________________\n",
      "Layer (type)                 Output Shape              Param #   \n",
      "=================================================================\n",
      "dense_1 (Dense)              (None, 1024)              10240     \n",
      "_________________________________________________________________\n",
      "dense_2 (Dense)              (None, 64)                65600     \n",
      "_________________________________________________________________\n",
      "dense_3 (Dense)              (None, 32)                2080      \n",
      "_________________________________________________________________\n",
      "dense_4 (Dense)              (None, 1)                 33        \n",
      "=================================================================\n",
      "Total params: 77,953\n",
      "Trainable params: 77,953\n",
      "Non-trainable params: 0\n",
      "_________________________________________________________________\n"
     ]
    }
   ],
   "metadata": {}
  },
  {
   "cell_type": "markdown",
   "source": [
    "#### 計算準確度（Accuracy）"
   ],
   "metadata": {}
  },
  {
   "cell_type": "code",
   "execution_count": 27,
   "source": [
    "from sklearn.model_selection import KFold  "
   ],
   "outputs": [],
   "metadata": {}
  },
  {
   "cell_type": "code",
   "execution_count": 28,
   "source": [
    "kf = KFold(n_splits=5,                                # 設定 K 值\r\n",
    "           random_state=2020,\r\n",
    "           shuffle=True)\r\n",
    "kf.get_n_splits(train_x)                              # 給予資料範圍\r\n",
    "\r\n",
    "train_acc_list = []                                   # 儲存每次訓練模型的準確度\r\n",
    "\r\n",
    "#5-folder 平均acc\r\n",
    "for train_index, valid_index in kf.split(train_x):    # 每個迴圈都會產生不同部份的資料\r\n",
    "    train_x_split = train_x.iloc[train_index]         # 產生訓練資料\r\n",
    "    train_y_split = train_y.iloc[train_index]         # 產生訓練資料標籤\r\n",
    "    valid_x_split = train_x.iloc[valid_index]         # 產生驗證資料\r\n",
    "    valid_y_split = train_y.iloc[valid_index]         # 產生驗證資料標籤    \r\n",
    "    \r\n",
    "    model.fit(train_x_split, train_y_split,       #輸入 與 輸出\r\n",
    "          nb_epoch = 50,          #子代數\r\n",
    "          batch_size = 11,        #批量大小\r\n",
    "          verbose = 0 ,           #是否顯示訓練過程\r\n",
    "          validation_data=(valid_x_split, valid_y_split)) #拿來預測的資料\r\n",
    "    train_acc = model.evaluate(train_x_split,train_y_split)\r\n",
    "    train_acc_list.append(train_acc[1])\r\n",
    "\r\n",
    "history = model.fit(train_x, train_y,       #輸入 與 輸出\r\n",
    "          nb_epoch = 100,          #子代數\r\n",
    "          batch_size = 11,        #批量大小 \r\n",
    "          verbose = 0 ) #拿來預測的資料\r\n",
    "train_acc_all = model.evaluate(train_x,train_y)\r\n",
    "print((\r\n",
    "   'average train accuracy: {}\\n' +   \r\n",
    "    'all data train accuracy: {}'\r\n",
    "    ).format(\r\n",
    "    np.mean(train_acc_list),# 輸出平均訓練準確度\r\n",
    "    train_acc_all[1] ,      # 輸出全部訓練準確度                              \r\n",
    "))"
   ],
   "outputs": [
    {
     "output_type": "stream",
     "name": "stderr",
     "text": [
      "C:\\Users\\user\\Anaconda3\\lib\\site-packages\\ipykernel_launcher.py:19: UserWarning: The `nb_epoch` argument in `fit` has been renamed `epochs`.\n"
     ]
    },
    {
     "output_type": "stream",
     "name": "stdout",
     "text": [
      "712/712 [==============================] - 0s 38us/step\n",
      "713/713 [==============================] - 0s 41us/step\n",
      "713/713 [==============================] - 0s 38us/step\n",
      "713/713 [==============================] - 0s 38us/step\n",
      "713/713 [==============================] - 0s 41us/step\n"
     ]
    },
    {
     "output_type": "stream",
     "name": "stderr",
     "text": [
      "C:\\Users\\user\\Anaconda3\\lib\\site-packages\\ipykernel_launcher.py:26: UserWarning: The `nb_epoch` argument in `fit` has been renamed `epochs`.\n"
     ]
    },
    {
     "output_type": "stream",
     "name": "stdout",
     "text": [
      "891/891 [==============================] - 0s 37us/step\n",
      "average train accuracy: 0.854652750492096\n",
      "all data train accuracy: 0.875420868396759\n"
     ]
    }
   ],
   "metadata": {}
  },
  {
   "cell_type": "markdown",
   "source": [
    "#### 將**訓練過程**利用畫圖套件視覺化"
   ],
   "metadata": {}
  },
  {
   "cell_type": "code",
   "execution_count": 29,
   "source": [
    "# 訓練過程圖 \r\n",
    "plt.subplot(211)\r\n",
    "\r\n",
    "plt.plot(history.history['accuracy'])\r\n",
    "plt.ylabel(\"accurary\")\r\n",
    "plt.title(\"accurary history\")\r\n",
    "plt.legend(['train_acc'],loc='upper left')\r\n",
    "\r\n",
    "plt.subplot(212)\r\n",
    "\r\n",
    "plt.plot(history.history['loss'])\r\n",
    "plt.ylabel(\"loss\")\r\n",
    "plt.title(\"loss history\")\r\n",
    "plt.legend(['train_loss'],loc='upper left')\r\n",
    "plt.xlabel(\"epoch\")\r\n",
    "\r\n",
    "plt.tight_layout()\r\n",
    "plt.show()"
   ],
   "outputs": [
    {
     "output_type": "display_data",
     "data": {
      "image/png": "[encoded data removed]",
      "text/plain": [
       "<Figure size 432x288 with 2 Axes>"
      ]
     },
     "metadata": {}
    }
   ],
   "metadata": {}
  },
  {
   "cell_type": "markdown",
   "source": [
    "#### 檢驗訓練結果"
   ],
   "metadata": {}
  },
  {
   "cell_type": "code",
   "execution_count": 30,
   "source": [
    "predict_y = model.predict_classes(train_x)"
   ],
   "outputs": [],
   "metadata": {}
  },
  {
   "cell_type": "code",
   "execution_count": 31,
   "source": [
    "confusion = pd.crosstab(train_y,predict_y.reshape(-1),rownames=['true'],colnames=['predict'])\r\n",
    "print(confusion)"
   ],
   "outputs": [
    {
     "output_type": "stream",
     "name": "stdout",
     "text": [
      "predict    0    1\n",
      "true             \n",
      "0        500   49\n",
      "1         62  280\n"
     ]
    }
   ],
   "metadata": {}
  },
  {
   "cell_type": "code",
   "execution_count": 32,
   "source": [
    "#模型預測\r\n",
    "y_score = model.predict(train_x)"
   ],
   "outputs": [],
   "metadata": {}
  },
  {
   "cell_type": "code",
   "execution_count": 33,
   "source": [
    "#引入套件\r\n",
    "from sklearn.metrics import roc_curve,roc_auc_score\r\n",
    "#roc curve\r\n",
    "fpr,tpr,thresholds = roc_curve(train_y,y_score)\r\n",
    "plt.plot(fpr,tpr,'r-')\r\n",
    "plt.plot([0,1],[0,1],'k--')\r\n",
    "plt.xlabel('False Positiver rate')\r\n",
    "plt.ylabel('True Positive rate')\r\n",
    "plt.show()\r\n",
    "#auc score\r\n",
    "print(\"roc auc score:\"+str(roc_auc_score(train_y,y_score)))"
   ],
   "outputs": [
    {
     "output_type": "display_data",
     "data": {
      "image/png": "[encoded data removed]",
      "text/plain": [
       "<Figure size 432x288 with 1 Axes>"
      ]
     },
     "metadata": {}
    },
    {
     "output_type": "stream",
     "name": "stdout",
     "text": [
      "roc auc score:0.9274438372799029\n"
     ]
    }
   ],
   "metadata": {}
  }
 ],
 "metadata": {
  "kernelspec": {
   "display_name": "Python 3",
   "language": "python",
   "name": "python3"
  },
  "language_info": {
   "codemirror_mode": {
    "name": "ipython",
    "version": 3
   },
   "file_extension": ".py",
   "mimetype": "text/x-python",
   "name": "python",
   "nbconvert_exporter": "python",
   "pygments_lexer": "ipython3",
   "version": "3.6.4"
  }
 },
 "nbformat": 4,
 "nbformat_minor": 2
}