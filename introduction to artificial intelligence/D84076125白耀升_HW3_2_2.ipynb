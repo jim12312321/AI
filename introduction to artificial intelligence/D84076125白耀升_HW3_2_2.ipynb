{
  "nbformat": 4,
  "nbformat_minor": 0,
  "metadata": {
    "kernelspec": {
      "display_name": "Python 3",
      "language": "python",
      "name": "python3"
    },
    "language_info": {
      "codemirror_mode": {
        "name": "ipython",
        "version": 3
      },
      "file_extension": ".py",
      "mimetype": "text/x-python",
      "name": "python",
      "nbconvert_exporter": "python",
      "pygments_lexer": "ipython3",
      "version": "3.6.4"
    },
    "colab": {
      "name": "D84076125白耀升_HW3_2_2.ipynb",
      "provenance": [],
      "toc_visible": true
    },
    "accelerator": "GPU"
  },
  "cells": [
    {
      "cell_type": "markdown",
      "metadata": {
        "id": "5unAD3P2vNpQ"
      },
      "source": [
        "# Pytorch Homework 3: 利用 stanford dog (mini) dataset 來訓練一個分類器。\n",
        "\n",
        "## 作業說明\n",
        "\n",
        "這次的作業總共有 4 個部份，必須完成助教提供的 ipynb 檔，在檔案中某些區塊會有 ??? 處需要完成。\n",
        "\n",
        "0. 安裝需要使用的 package: pip install -r requirements.txt\n",
        "\n",
        "1. 實作 Dataloader\n",
        "    * 1.1. 實作一個可以讀取 stanford dog (mini) 的 Pytorch dataset。 ** (10%) **\n",
        "    * 1.2. 將每一個類別以 8 : 2 的比例分割成 Training data 和 Testing data 傳至 dataloader  ** (15%) **\n",
        "\n",
        "2. 建構 CNN model。\n",
        "    * 2.1. 利用 Pytorch 內建的 CNN model 來進行訓練。 ** (10%) **\n",
        "    * 2.2. 自行設計一個新的 CNN model 來進行訓練。 ** (20%) ** (至少達到 70% 以上的 Testing accuracy，否則只有一半的分數)\n",
        "    * 2.3. 利用 torchsummary 來印出上面兩個模型的架構資訊。 ** (5%) **\n",
        "\n",
        "3. 實作模型訓練和測試模型效能。 ** (30%) **\n",
        "4. 將每一個 epoch 的 Loss 以及 Training / Testing accuracy 紀錄下來並繪製成圖並儲存下來。 ** (10%) **\n",
        "    \n",
        "## 作業繳交\n",
        "\n",
        "* Deadline : 11/16 中午12:00        \n",
        "    * **遲交一天打 7 折**\n",
        "    * **遲交兩天打 5 折**\n",
        "    * **遲交三天以上不給予分數**\n",
        "    \n",
        "* 繳交方式 : 請將完成的 ipynb 檔 (分成兩個版本: 內建 model 版和自己設計的版本) 以及 Loss、Training / testing accuracy 的圖片，壓縮後上傳至 moodle。\n",
        "    * 建議先完成一個版本，然後將檔案複製後再完成另一個版本\n",
        "    \n",
        "* 壓縮檔內包含 :\n",
        "    * (你的學號)\\_(姓名)\\_HW3_2_1.ipynb  (E.g.F77777777_王小明_HW3_2_1.ipynb) \n",
        "    * (你的學號)\\_(姓名)\\_HW3_2_2.ipynb  (E.g.F77777777_王小明_HW3_2_2.ipynb) \n",
        "    * 兩個版本的 Loss.png、Acc.png (Loss_2_1.png、Loss_2_2.png、Acc_2_1.png、Acc_2_2.png)\n",
        "    * **格式不對的話會扣 10 分！！！**\n",
        "    \n",
        "* 有任何問題歡迎寄信至我的信箱\n",
        "    * 曹維廷 a0903511820@gmail.com"
      ]
    },
    {
      "cell_type": "code",
      "metadata": {
        "id": "AsOUIAx7tctw"
      },
      "source": [
        "!pip install -r requirements.txt"
      ],
      "execution_count": null,
      "outputs": []
    },
    {
      "cell_type": "code",
      "metadata": {
        "id": "xQkllmndvNpS"
      },
      "source": [
        "import os, torch, torchvision, random\n",
        "import pandas as pd\n",
        "import numpy as np\n",
        "import torch.nn as nn\n",
        "import matplotlib.pyplot as plt\n",
        "from PIL import Image\n",
        "\n",
        "import torch.nn.functional as F\n",
        "import torchvision.transforms as transforms\n",
        "import torchvision.models as models\n",
        "from torch.utils.data import Dataset, random_split, DataLoader\n",
        "from torchvision.datasets import ImageFolder\n",
        "from torchvision import models\n",
        "from torch import optim\n",
        "from torchsummary import summary"
      ],
      "execution_count": 3,
      "outputs": []
    },
    {
      "cell_type": "code",
      "metadata": {
        "id": "Tli6SmNlvNpc"
      },
      "source": [
        "device = torch.device('cuda' if torch.cuda.is_available() else 'cpu')"
      ],
      "execution_count": 4,
      "outputs": []
    },
    {
      "cell_type": "markdown",
      "metadata": {
        "id": "PgDavV0uvNpi"
      },
      "source": [
        "### Part 1：Dataloader 實作"
      ]
    },
    {
      "cell_type": "code",
      "metadata": {
        "id": "DpY8yKeavNpj"
      },
      "source": [
        "# 1.1. 填入 ??? 的部份\n",
        "\n",
        "class DogDataset(Dataset):\n",
        "    \n",
        "    def __init__(self, filenames, labels, transform):\n",
        "        \n",
        "        self.filenames = filenames # 資料集的所有檔名\n",
        "        self.labels = labels # 影像的標籤\n",
        "        self.transform = transform # 影像的轉換方式\n",
        " \n",
        "    def __len__(self):\n",
        "        \n",
        "        return len(self.filenames) # return DataSet 長度\n",
        " \n",
        "    def __getitem__(self, idx):\n",
        "        \n",
        "        image = Image.open(self.filenames[idx]).convert('RGB')\n",
        "        image = self.transform(image) # Transform image\n",
        "        label = np.array(self.labels[idx])\n",
        "                \n",
        "        return image, label # return 模型訓練所需的資訊\n"
      ],
      "execution_count": 5,
      "outputs": []
    },
    {
      "cell_type": "code",
      "metadata": {
        "id": "Hqye-4hDvNpq"
      },
      "source": [
        "normalize = transforms.Normalize(mean = [0.485, 0.456, 0.406], std = [0.229, 0.224, 0.225])\n",
        "\n",
        "# Transformer\n",
        "train_transformer = transforms.Compose([\n",
        "    transforms.Resize(256),\n",
        "    transforms.RandomResizedCrop(224),\n",
        "    transforms.RandomHorizontalFlip(),\n",
        "    transforms.ToTensor(),\n",
        "    normalize\n",
        "])\n",
        " \n",
        "test_transformer = transforms.Compose([\n",
        "    transforms.Resize(224),\n",
        "    transforms.CenterCrop(224),\n",
        "    transforms.ToTensor(),\n",
        "    normalize\n",
        "])\n",
        "\n",
        "# 1.2. 填入 ??? 的部份\n",
        "\n",
        "def split_Train_Val_Data(data_dir):\n",
        "    \n",
        "    dataset = ImageFolder(data_dir) \n",
        "    \n",
        "    # 建立 20 類的 list\n",
        "    character = [[] for i in range(len(dataset.classes))]\n",
        "    #print(character)\n",
        "    \n",
        "    # 將每一類的檔名依序存入相對應的 list\n",
        "    for x, y in dataset.samples:       \n",
        "        character[y].append(x)\n",
        "      \n",
        "    train_inputs, test_inputs = [], []\n",
        "    train_labels, test_labels = [], []\n",
        "    \n",
        "    for i, data in enumerate(character): # 讀取每個類別中所有的檔名 (i: label, data: filename)\n",
        "        \n",
        "        np.random.seed(42)\n",
        "        np.random.shuffle(data)\n",
        "            \n",
        "        # -------------------------------------------\n",
        "        # 將每一類都以 8:2 的比例分成訓練資料和測試資料\n",
        "        # -------------------------------------------\n",
        "        \n",
        "        num_sample_train = int(len(data) * 0.8)\n",
        "        num_sample_test = len(data)-num_sample_train\n",
        "        \n",
        "        #print(str(i) + ': ' + str(len(data)) + ' | ' + str(num_sample_train) + ' | ' + str(num_sample_test))\n",
        "        \n",
        "        for x in data[:num_sample_train] : # 前 80% 資料存進 training list\n",
        "            train_inputs.append(x)\n",
        "            train_labels.append(i)\n",
        "            \n",
        "        for x in data[num_sample_test:] : # 後 20% 資料存進 testing list\n",
        "            test_inputs.append(x)\n",
        "            test_labels.append(i)\n",
        "\n",
        "    train_dataloader = DataLoader(DogDataset(train_inputs, train_labels, train_transformer),\n",
        "                                  batch_size = batch_size, shuffle = True)\n",
        "    test_dataloader = DataLoader(DogDataset(test_inputs, test_labels, test_transformer),\n",
        "                                  batch_size = batch_size, shuffle = False)\n",
        " \n",
        "    return train_dataloader, test_dataloader"
      ],
      "execution_count": 6,
      "outputs": []
    },
    {
      "cell_type": "markdown",
      "metadata": {
        "id": "4ii33XA6vNpv"
      },
      "source": [
        "### Part 2: 建立 CNN Model"
      ]
    },
    {
      "cell_type": "markdown",
      "metadata": {
        "id": "CUtSEQFZvNp1"
      },
      "source": [
        "### Setting\n",
        "\n",
        "依據需求調整參數"
      ]
    },
    {
      "cell_type": "code",
      "metadata": {
        "id": "qdgpg_L9vNp2"
      },
      "source": [
        "batch_size = 32\n",
        "lr = 1e-3\n",
        "epochs = 20\n",
        "\n",
        "data_dir = 'stanford_dog'"
      ],
      "execution_count": 8,
      "outputs": []
    },
    {
      "cell_type": "code",
      "metadata": {
        "id": "o9cp7lp3vNp7",
        "outputId": "90147c28-1121-4bd6-8039-16f1d98036b3",
        "colab": {
          "base_uri": "https://localhost:8080/"
        }
      },
      "source": [
        "# 2.3. \n",
        "\n",
        "train_dataloader, test_dataloader = split_Train_Val_Data(data_dir)\n",
        "\n",
        "vgg16 = models.vgg16(pretrained=True)\n",
        "for param in vgg16.parameters():\n",
        "    param.requires_grad = False\n",
        "vgg16.classifier[6] = nn.Linear(4096,20)\n",
        "vgg16 = vgg16.cuda()\n",
        "    \n",
        "C = vgg16.to(device) # 使用內建的 model 或是自行設計的 model\n",
        "optimizer_C = optim.SGD(C.parameters(), lr = lr) # 選擇你想用的 optimizer\n",
        "\n",
        "summary(C,(3,224,224)) # 利用 torchsummary 的 summary package 印出模型資訊，input size: (3 * 224 * 224)\n",
        "\n",
        "# Loss function\n",
        "criteron = nn.CrossEntropyLoss() # 選擇想用的 loss function"
      ],
      "execution_count": 10,
      "outputs": [
        {
          "output_type": "stream",
          "text": [
            "----------------------------------------------------------------\n",
            "        Layer (type)               Output Shape         Param #\n",
            "================================================================\n",
            "            Conv2d-1         [-1, 64, 224, 224]           1,792\n",
            "              ReLU-2         [-1, 64, 224, 224]               0\n",
            "            Conv2d-3         [-1, 64, 224, 224]          36,928\n",
            "              ReLU-4         [-1, 64, 224, 224]               0\n",
            "         MaxPool2d-5         [-1, 64, 112, 112]               0\n",
            "            Conv2d-6        [-1, 128, 112, 112]          73,856\n",
            "              ReLU-7        [-1, 128, 112, 112]               0\n",
            "            Conv2d-8        [-1, 128, 112, 112]         147,584\n",
            "              ReLU-9        [-1, 128, 112, 112]               0\n",
            "        MaxPool2d-10          [-1, 128, 56, 56]               0\n",
            "           Conv2d-11          [-1, 256, 56, 56]         295,168\n",
            "             ReLU-12          [-1, 256, 56, 56]               0\n",
            "           Conv2d-13          [-1, 256, 56, 56]         590,080\n",
            "             ReLU-14          [-1, 256, 56, 56]               0\n",
            "           Conv2d-15          [-1, 256, 56, 56]         590,080\n",
            "             ReLU-16          [-1, 256, 56, 56]               0\n",
            "        MaxPool2d-17          [-1, 256, 28, 28]               0\n",
            "           Conv2d-18          [-1, 512, 28, 28]       1,180,160\n",
            "             ReLU-19          [-1, 512, 28, 28]               0\n",
            "           Conv2d-20          [-1, 512, 28, 28]       2,359,808\n",
            "             ReLU-21          [-1, 512, 28, 28]               0\n",
            "           Conv2d-22          [-1, 512, 28, 28]       2,359,808\n",
            "             ReLU-23          [-1, 512, 28, 28]               0\n",
            "        MaxPool2d-24          [-1, 512, 14, 14]               0\n",
            "           Conv2d-25          [-1, 512, 14, 14]       2,359,808\n",
            "             ReLU-26          [-1, 512, 14, 14]               0\n",
            "           Conv2d-27          [-1, 512, 14, 14]       2,359,808\n",
            "             ReLU-28          [-1, 512, 14, 14]               0\n",
            "           Conv2d-29          [-1, 512, 14, 14]       2,359,808\n",
            "             ReLU-30          [-1, 512, 14, 14]               0\n",
            "        MaxPool2d-31            [-1, 512, 7, 7]               0\n",
            "AdaptiveAvgPool2d-32            [-1, 512, 7, 7]               0\n",
            "           Linear-33                 [-1, 4096]     102,764,544\n",
            "             ReLU-34                 [-1, 4096]               0\n",
            "          Dropout-35                 [-1, 4096]               0\n",
            "           Linear-36                 [-1, 4096]      16,781,312\n",
            "             ReLU-37                 [-1, 4096]               0\n",
            "          Dropout-38                 [-1, 4096]               0\n",
            "           Linear-39                   [-1, 20]          81,940\n",
            "================================================================\n",
            "Total params: 134,342,484\n",
            "Trainable params: 81,940\n",
            "Non-trainable params: 134,260,544\n",
            "----------------------------------------------------------------\n",
            "Input size (MB): 0.57\n",
            "Forward/backward pass size (MB): 218.77\n",
            "Params size (MB): 512.48\n",
            "Estimated Total Size (MB): 731.82\n",
            "----------------------------------------------------------------\n"
          ],
          "name": "stdout"
        }
      ]
    },
    {
      "cell_type": "code",
      "metadata": {
        "id": "DsUOB8sUvNqB"
      },
      "source": [
        "loss_epoch_C = []\n",
        "train_acc, test_acc = [], []\n",
        "best_acc, best_auc = 0.0, 0.0"
      ],
      "execution_count": 11,
      "outputs": []
    },
    {
      "cell_type": "markdown",
      "metadata": {
        "id": "tpCYFE61vNqH"
      },
      "source": [
        "### 3. 實作模型訓練和測試模型效能"
      ]
    },
    {
      "cell_type": "code",
      "metadata": {
        "id": "Zxx_jIAAvNqI",
        "outputId": "1f5f770a-d5e6-4b12-dbd0-dc4a15580427",
        "colab": {
          "base_uri": "https://localhost:8080/"
        }
      },
      "source": [
        "if __name__ == '__main__':    \n",
        "    \n",
        "    for epoch in range(epochs):\n",
        "    \n",
        "        iter = 0\n",
        "        correct_train, total_train = 0, 0\n",
        "        correct_test, total_test = 0, 0\n",
        "        train_loss_C = 0.0\n",
        "\n",
        "        C.train() # 設定 train 或 eval\n",
        "      \n",
        "        print('epoch: ' + str(epoch + 1) + ' / ' + str(epochs))  \n",
        "        \n",
        "        # ---------------------------\n",
        "        # Training Stage\n",
        "        # ---------------------------\n",
        "        \n",
        "        for i, (x, label) in enumerate(train_dataloader) :\n",
        "                     \n",
        "            x, label = x.to(device), label.to(device)\n",
        "                        \n",
        "            optimizer_C.zero_grad() # 清空梯度\n",
        "            \n",
        "            output = C(x) # 將訓練資料輸入至模型進行訓練\n",
        "            loss = criteron(output,label) # 計算 loss\n",
        "            \n",
        "            loss.backward() # 將 loss 反向傳播\n",
        "            optimizer_C.step() # 更新權重\n",
        "            \n",
        "            # 計算訓練資料的準確度 (correct_train / total_train)\n",
        "            _, predicted = torch.max(output.data,1)\n",
        "            total_train += len(label)\n",
        "            correct_train += (predicted == label).sum()\n",
        "\n",
        "            train_loss_C += loss.item()\n",
        "            iter += 1\n",
        "\n",
        "            \n",
        "        training_accuracy = correct_train / total_train\n",
        "        print('Training epoch: %d / loss_C: %.3f | acc: %.3f' % \\\n",
        "              (epoch + 1, train_loss_C / iter, correct_train / total_train))\n",
        "\n",
        "        \n",
        "        # --------------------------\n",
        "        # Testing Stage\n",
        "        # --------------------------\n",
        "        \n",
        "        C.eval() # 設定 train 或 eval\n",
        "          \n",
        "        for i, (x, label) in enumerate(test_dataloader) :\n",
        "          \n",
        "            with torch.no_grad(): # 測試階段不需要求梯度\n",
        "                x, label = x.to(device), label.to(device)\n",
        "                \n",
        "                output = C(x) # 將測試資料輸入至模型進行測試\n",
        "                 # 計算測試資料的準確度\n",
        "                _, predicted = torch.max(output.data,1)\n",
        "                total_test += len(label)\n",
        "                correct_test += (predicted == label).sum()\n",
        "\n",
        "                \n",
        "        testing_accuracy = correct_test / total_test\n",
        "        print('Testing acc: %.3f' % (correct_test / total_test))\n",
        "                                     \n",
        "        train_acc.append(100 * training_accuracy) # training accuracy\n",
        "        test_acc.append(100 * testing_accuracy)  # testing accuracy\n",
        "        loss_epoch_C.append(train_loss_C) # loss \n",
        "    "
      ],
      "execution_count": 12,
      "outputs": [
        {
          "output_type": "stream",
          "text": [
            "epoch: 1 / 20\n",
            "Training epoch: 1 / loss_C: 2.501 | acc: 0.299\n",
            "Testing acc: 0.764\n",
            "epoch: 2 / 20\n",
            "Training epoch: 2 / loss_C: 1.728 | acc: 0.591\n",
            "Testing acc: 0.843\n",
            "epoch: 3 / 20\n",
            "Training epoch: 3 / loss_C: 1.405 | acc: 0.668\n",
            "Testing acc: 0.856\n",
            "epoch: 4 / 20\n",
            "Training epoch: 4 / loss_C: 1.225 | acc: 0.699\n",
            "Testing acc: 0.865\n",
            "epoch: 5 / 20\n",
            "Training epoch: 5 / loss_C: 1.129 | acc: 0.707\n",
            "Testing acc: 0.874\n",
            "epoch: 6 / 20\n",
            "Training epoch: 6 / loss_C: 1.072 | acc: 0.710\n",
            "Testing acc: 0.877\n",
            "epoch: 7 / 20\n",
            "Training epoch: 7 / loss_C: 0.995 | acc: 0.725\n",
            "Testing acc: 0.885\n",
            "epoch: 8 / 20\n",
            "Training epoch: 8 / loss_C: 0.948 | acc: 0.748\n",
            "Testing acc: 0.882\n",
            "epoch: 9 / 20\n",
            "Training epoch: 9 / loss_C: 0.916 | acc: 0.744\n",
            "Testing acc: 0.888\n",
            "epoch: 10 / 20\n",
            "Training epoch: 10 / loss_C: 0.919 | acc: 0.744\n",
            "Testing acc: 0.888\n",
            "epoch: 11 / 20\n",
            "Training epoch: 11 / loss_C: 0.886 | acc: 0.749\n",
            "Testing acc: 0.890\n",
            "epoch: 12 / 20\n",
            "Training epoch: 12 / loss_C: 0.869 | acc: 0.740\n",
            "Testing acc: 0.889\n",
            "epoch: 13 / 20\n",
            "Training epoch: 13 / loss_C: 0.855 | acc: 0.741\n",
            "Testing acc: 0.891\n",
            "epoch: 14 / 20\n",
            "Training epoch: 14 / loss_C: 0.816 | acc: 0.750\n",
            "Testing acc: 0.892\n",
            "epoch: 15 / 20\n",
            "Training epoch: 15 / loss_C: 0.817 | acc: 0.753\n",
            "Testing acc: 0.891\n",
            "epoch: 16 / 20\n",
            "Training epoch: 16 / loss_C: 0.808 | acc: 0.748\n",
            "Testing acc: 0.895\n",
            "epoch: 17 / 20\n",
            "Training epoch: 17 / loss_C: 0.811 | acc: 0.756\n",
            "Testing acc: 0.897\n",
            "epoch: 18 / 20\n",
            "Training epoch: 18 / loss_C: 0.770 | acc: 0.772\n",
            "Testing acc: 0.895\n",
            "epoch: 19 / 20\n",
            "Training epoch: 19 / loss_C: 0.770 | acc: 0.759\n",
            "Testing acc: 0.899\n",
            "epoch: 20 / 20\n",
            "Training epoch: 20 / loss_C: 0.780 | acc: 0.748\n",
            "Testing acc: 0.898\n"
          ],
          "name": "stdout"
        }
      ]
    },
    {
      "cell_type": "markdown",
      "metadata": {
        "id": "u__HSdCOvNqS"
      },
      "source": [
        "### 4. 將每一個 epoch 的 Loss 以及 Training / Testing accuracy 紀錄下來並繪製成圖。"
      ]
    },
    {
      "cell_type": "code",
      "metadata": {
        "id": "U8s70RaqvNqT",
        "outputId": "3522d2e6-a9de-43a2-9c5f-9238679ff6dd",
        "colab": {
          "base_uri": "https://localhost:8080/",
          "height": 573
        }
      },
      "source": [
        "plt.figure()\n",
        "\n",
        "plt.plot(loss_epoch_C) # plot your loss\n",
        "\n",
        "plt.title('Training Loss')\n",
        "plt.ylabel('loss'), plt.xlabel('epoch')\n",
        "plt.legend(['loss_C'], loc = 'upper left')\n",
        "#plt.savefig(\"Loss_2_2.png\")\n",
        "plt.show()\n",
        "\n",
        "\n",
        "plt.figure()\n",
        "\n",
        "plt.plot(np.array(train_acc)/100) # plot your training accuracy\n",
        "plt.plot(np.array(test_acc)/100) # plot your testing accuracy\n",
        "\n",
        "plt.title('Training acc')\n",
        "plt.ylabel('acc (%)'), plt.xlabel('epoch')\n",
        "plt.legend(['training acc', 'testing acc'], loc = 'upper left')\n",
        "#plt.savefig(\"Acc_2_2.png\")\n",
        "plt.show()\n"
      ],
      "execution_count": 17,
      "outputs": [
        {
          "output_type": "display_data",
          "data": {
            "image/png": "[encoded data removed]",
            "text/plain": [
              "<Figure size 432x288 with 1 Axes>"
            ]
          },
          "metadata": {
            "tags": [],
            "needs_background": "light"
          }
        },
        {
          "output_type": "display_data",
          "data": {
            "image/png": "[encoded data removed]",
            "text/plain": [
              "<Figure size 432x288 with 1 Axes>"
            ]
          },
          "metadata": {
            "tags": [],
            "needs_background": "light"
          }
        }
      ]
    }
  ]
}