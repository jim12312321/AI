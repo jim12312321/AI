{
 "cells": [
  {
   "cell_type": "code",
   "execution_count": 1,
   "metadata": {},
   "outputs": [
    {
     "name": "stderr",
     "output_type": "stream",
     "text": [
      "C:\\Users\\user\\Anaconda3\\lib\\site-packages\\h5py\\__init__.py:36: FutureWarning: Conversion of the second argument of issubdtype from `float` to `np.floating` is deprecated. In future, it will be treated as `np.float64 == np.dtype(float).type`.\n",
      "  from ._conv import register_converters as _register_converters\n",
      "Using TensorFlow backend.\n"
     ]
    }
   ],
   "source": [
    "import cv2\n",
    "import matplotlib.pyplot as plt\n",
    "from tensorflow import keras\n",
    "from keras.datasets import cifar10\n",
    "import numpy as np"
   ]
  },
  {
   "cell_type": "code",
   "execution_count": 2,
   "metadata": {},
   "outputs": [],
   "source": [
    "(X_train, Y_train), (X_test, Y_test) = cifar10.load_data()"
   ]
  },
  {
   "cell_type": "code",
   "execution_count": 3,
   "metadata": {},
   "outputs": [
    {
     "name": "stdout",
     "output_type": "stream",
     "text": [
      "WARNING:tensorflow:Error in loading the saved optimizer state. As a result, your model is starting with a freshly initialized optimizer.\n"
     ]
    }
   ],
   "source": [
    "model = keras.models.load_model('Hw1_5.h5')"
   ]
  },
  {
   "cell_type": "markdown",
   "metadata": {},
   "source": [
    "## 5.1"
   ]
  },
  {
   "cell_type": "code",
   "execution_count": 4,
   "metadata": {},
   "outputs": [],
   "source": [
    "import random"
   ]
  },
  {
   "cell_type": "code",
   "execution_count": 5,
   "metadata": {},
   "outputs": [],
   "source": [
    "def show_train():\n",
    "    for i in range(10):\n",
    "        index = random.randint(0,49999)\n",
    "        if(Y_train[index] == 0):\n",
    "            label = \"airplane\"\n",
    "        elif(Y_train[index] == 1):\n",
    "            label = \"automobile\"\n",
    "        elif(Y_train[index] == 2):\n",
    "            label = \"bird\"\n",
    "        elif(Y_train[index] == 3):\n",
    "            label = \"cat\"\n",
    "        elif(Y_train[index] == 4):\n",
    "            label = \"deer\"\n",
    "        elif(Y_train[index] == 5):\n",
    "            label = \"dog\"\n",
    "        elif(Y_train[index] == 6):\n",
    "            label = \"frog\"\n",
    "        elif(Y_train[index] == 7):\n",
    "            label = \"horse\"\n",
    "        elif(Y_train[index] == 8):\n",
    "            label = \"ship\"\n",
    "        else:\n",
    "            label = \"truck\"\n",
    "        output = X_train[index]\n",
    "        output = cv2.resize(output,(300,300))\n",
    "        cv2.imshow(str(i)+\" \"+label,output)"
   ]
  },
  {
   "cell_type": "markdown",
   "metadata": {},
   "source": [
    "## 5.2"
   ]
  },
  {
   "cell_type": "code",
   "execution_count": 6,
   "metadata": {},
   "outputs": [],
   "source": [
    "def show_hyper():\n",
    "    print(\"hyperparameters:\")\n",
    "    print(\"batch size: 32\")\n",
    "    print(\"learning rate: 0.001\")\n",
    "    print(\"optimizer: SGD\")"
   ]
  },
  {
   "cell_type": "markdown",
   "metadata": {},
   "source": [
    "## 5.3"
   ]
  },
  {
   "cell_type": "code",
   "execution_count": 7,
   "metadata": {},
   "outputs": [],
   "source": [
    "def show_structure():\n",
    "    print(model.summary())"
   ]
  },
  {
   "cell_type": "markdown",
   "metadata": {},
   "source": [
    "## 5.4"
   ]
  },
  {
   "cell_type": "code",
   "execution_count": 8,
   "metadata": {},
   "outputs": [],
   "source": [
    "def show_history():\n",
    "    img = cv2.imread(\"hw1_5_train_history.jpg\")\n",
    "    cv2.imshow(\"Train History\",img)"
   ]
  },
  {
   "cell_type": "markdown",
   "metadata": {},
   "source": [
    "## 5.5"
   ]
  },
  {
   "cell_type": "code",
   "execution_count": 9,
   "metadata": {},
   "outputs": [],
   "source": [
    "def model_predict(index):\n",
    "    X_train_index = X_train[index].astype('float16')\n",
    "    X_train_index = X_train_index[np.newaxis,:,:,:]\n",
    "    proba = model.predict(X_train_index)\n",
    "    show_test_hist(proba[0])\n",
    "    output = X_train[index]\n",
    "    output = cv2.resize(output,(300,300))\n",
    "    cv2.imshow(\"test pic\",output)\n",
    "    img = cv2.imread(\"test.png\")\n",
    "    cv2.imshow(\"test pic proba\",img)"
   ]
  },
  {
   "cell_type": "code",
   "execution_count": 10,
   "metadata": {},
   "outputs": [],
   "source": [
    "def show_test_hist(proba):\n",
    "    title =[\"plane\",\"car\",\"bird\",\"cat\",\"deer\",\"dog\",\"frog\",\"horse\",\"ship\",\"truck\"]\n",
    "    plt.bar(title,proba,width = 0.3)\n",
    "    plt.xlabel(\"categories\")\n",
    "    plt.ylabel(\"porbability\")\n",
    "    plt.title(\"test pic proba\")\n",
    "    plt.savefig(\"test.png\")\n",
    "    plt.close()"
   ]
  },
  {
   "cell_type": "code",
   "execution_count": 11,
   "metadata": {},
   "outputs": [],
   "source": [
    "import hw1_5_window as ui\n",
    "from PyQt5 import QtWidgets\n",
    "from PyQt5.QtWidgets import *"
   ]
  },
  {
   "cell_type": "code",
   "execution_count": 12,
   "metadata": {},
   "outputs": [
    {
     "name": "stdout",
     "output_type": "stream",
     "text": [
      "hyperparameters:\n",
      "batch size: 32\n",
      "learning rate: 0.001\n",
      "optimizer: SGD\n",
      "Model: \"sequential_1\"\n",
      "_________________________________________________________________\n",
      "Layer (type)                 Output Shape              Param #   \n",
      "=================================================================\n",
      "vgg16 (Model)                (None, 1, 1, 512)         14714688  \n",
      "_________________________________________________________________\n",
      "flatten (Flatten)            (None, 512)               0         \n",
      "_________________________________________________________________\n",
      "dense (Dense)                (None, 4096)              2101248   \n",
      "_________________________________________________________________\n",
      "dense_1 (Dense)              (None, 4096)              16781312  \n",
      "_________________________________________________________________\n",
      "dense_2 (Dense)              (None, 10)                40970     \n",
      "=================================================================\n",
      "Total params: 33,638,218\n",
      "Trainable params: 33,638,218\n",
      "Non-trainable params: 0\n",
      "_________________________________________________________________\n",
      "None\n"
     ]
    },
    {
     "ename": "SystemExit",
     "evalue": "0",
     "output_type": "error",
     "traceback": [
      "An exception has occurred, use %tb to see the full traceback.\n",
      "\u001b[1;31mSystemExit\u001b[0m\u001b[1;31m:\u001b[0m 0\n"
     ]
    },
    {
     "name": "stderr",
     "output_type": "stream",
     "text": [
      "C:\\Users\\user\\Anaconda3\\lib\\site-packages\\IPython\\core\\interactiveshell.py:2918: UserWarning: To exit: use 'exit', 'quit', or Ctrl-D.\n",
      "  warn(\"To exit: use 'exit', 'quit', or Ctrl-D.\", stacklevel=1)\n"
     ]
    }
   ],
   "source": [
    "class Main(QMainWindow, ui.Ui_MainWindow):\n",
    "    def __init__(self):\n",
    "         super().__init__()\n",
    "         self.setupUi(self)\n",
    "    ## 5.5\n",
    "    def show_predict(self):\n",
    "        model_predict(self.spinBox.value())\n",
    "    \n",
    "if __name__ == '__main__':\n",
    "    import sys\n",
    "    app = QtWidgets.QApplication(sys.argv)\n",
    "    window = Main()\n",
    "    window.train_pic_btn.clicked.connect(show_train)\n",
    "    window.hyper_btn.clicked.connect(show_hyper)\n",
    "    window.str_btn.clicked.connect(show_structure)\n",
    "    window.acc_btn.clicked.connect(show_history)\n",
    "    window.test_btn.clicked.connect(window.show_predict)\n",
    "    window.show()\n",
    "    sys.exit(app.exec_())"
   ]
  },
  {
   "cell_type": "code",
   "execution_count": null,
   "metadata": {},
   "outputs": [],
   "source": []
  }
 ],
 "metadata": {
  "kernelspec": {
   "display_name": "Python 3",
   "language": "python",
   "name": "python3"
  },
  "language_info": {
   "codemirror_mode": {
    "name": "ipython",
    "version": 3
   },
   "file_extension": ".py",
   "mimetype": "text/x-python",
   "name": "python",
   "nbconvert_exporter": "python",
   "pygments_lexer": "ipython3",
   "version": "3.6.4"
  }
 },
 "nbformat": 4,
 "nbformat_minor": 2
}
